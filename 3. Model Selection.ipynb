{
 "cells": [
  {
   "cell_type": "markdown",
   "id": "eef095af",
   "metadata": {},
   "source": [
    "# Feature Engineering"
   ]
  },
  {
   "cell_type": "markdown",
   "id": "28f9d29f",
   "metadata": {},
   "source": [
    "## Importing the dataset"
   ]
  },
  {
   "cell_type": "code",
   "execution_count": 1,
   "id": "fbd418a4",
   "metadata": {},
   "outputs": [],
   "source": [
    "import pandas as pd\n",
    "import numpy as np\n",
    "df = pd.read_csv(\"data.csv\") "
   ]
  },
  {
   "cell_type": "markdown",
   "id": "b032d782",
   "metadata": {},
   "source": [
    "## Feature Selection:"
   ]
  },
  {
   "cell_type": "code",
   "execution_count": 2,
   "id": "19d0f53c",
   "metadata": {},
   "outputs": [
    {
     "name": "stdout",
     "output_type": "stream",
     "text": [
      "Index(['ID', 'Delivery_person_ID', 'Delivery_person_Age',\n",
      "       'Delivery_person_Ratings', 'Restaurant_latitude',\n",
      "       'Restaurant_longitude', 'Delivery_location_latitude',\n",
      "       'Delivery_location_longitude', 'Order_Date', 'Time_Orderd',\n",
      "       'Time_Order_picked', 'Weatherconditions', 'Road_traffic_density',\n",
      "       'Vehicle_condition', 'Type_of_order', 'Type_of_vehicle',\n",
      "       'multiple_deliveries', 'Festival', 'City', 'Time_taken(min)',\n",
      "       'Pickup_Delay', 'Distance_km', 'Road_traffic_density_encoded'],\n",
      "      dtype='object')\n"
     ]
    }
   ],
   "source": [
    "print(df.columns)"
   ]
  },
  {
   "cell_type": "code",
   "execution_count": 3,
   "id": "9be24dc4",
   "metadata": {
    "scrolled": true
   },
   "outputs": [
    {
     "name": "stdout",
     "output_type": "stream",
     "text": [
      "       ID Delivery_person_ID  Delivery_person_Age  Delivery_person_Ratings  \\\n",
      "0  0x4607     INDORES13DEL02                 37.0                      4.9   \n",
      "1  0xb379     BANGRES18DEL02                 34.0                      4.5   \n",
      "2  0x5d6d     BANGRES19DEL01                 23.0                      4.4   \n",
      "3  0x7a6a    COIMBRES13DEL02                 38.0                      4.7   \n",
      "4  0x70a2     CHENRES12DEL01                 32.0                      4.6   \n",
      "\n",
      "   Restaurant_latitude  Restaurant_longitude  Delivery_location_latitude  \\\n",
      "0            22.745049             75.892471                   22.765049   \n",
      "1            12.913041             77.683237                   13.043041   \n",
      "2            12.914264             77.678400                   12.924264   \n",
      "3            11.003669             76.976494                   11.053669   \n",
      "4            12.972793             80.249982                   13.012793   \n",
      "\n",
      "   Delivery_location_longitude  Order_Date          Time_Orderd  ...  \\\n",
      "0                    75.912471  2022-03-19  1900-01-01 11:33:33  ...   \n",
      "1                    77.813237  2022-03-25  1900-01-01 19:45:37  ...   \n",
      "2                    77.688400  2022-03-19  1900-01-01 08:32:58  ...   \n",
      "3                    77.026494  2022-04-05  1900-01-01 18:03:58  ...   \n",
      "4                    80.289982  2022-03-26  1900-01-01 13:34:16  ...   \n",
      "\n",
      "  Vehicle_condition Type_of_order Type_of_vehicle  multiple_deliveries  \\\n",
      "0                 2         Snack      motorcycle                  0.0   \n",
      "1                 2         Snack         scooter                  1.0   \n",
      "2                 0        Drinks      motorcycle                  1.0   \n",
      "3                 0        Buffet      motorcycle                  1.0   \n",
      "4                 1         Snack         scooter                  1.0   \n",
      "\n",
      "  Festival City  Time_taken(min)  Pickup_Delay  Distance_km  \\\n",
      "0        1    3               24     11.933333    -1.192417   \n",
      "1        1    0               33      6.200000     1.868674   \n",
      "2        1    3               26     15.816667    -1.455396   \n",
      "3        1    0               21      8.900000    -0.342584   \n",
      "4        1    0               30     11.333333    -0.624434   \n",
      "\n",
      "   Road_traffic_density_encoded  \n",
      "0                           2.0  \n",
      "1                           3.0  \n",
      "2                           0.0  \n",
      "3                           1.0  \n",
      "4                           2.0  \n",
      "\n",
      "[5 rows x 23 columns]\n"
     ]
    }
   ],
   "source": [
    "print(df.head())"
   ]
  },
  {
   "cell_type": "code",
   "execution_count": 4,
   "id": "3df4f578",
   "metadata": {},
   "outputs": [],
   "source": [
    "# Convert \"Unknown\" back to NaN (optional)\n",
    "df.replace(\"Unknown\", np.nan, inplace=True)\n",
    "\n",
    "# Drop rows with NaNs\n",
    "df.dropna(inplace=True)\n"
   ]
  },
  {
   "cell_type": "code",
   "execution_count": 5,
   "id": "4dd19435",
   "metadata": {},
   "outputs": [],
   "source": [
    "selected_features = [\n",
    "    \"Distance_km\",\n",
    "    \"Road_traffic_density_encoded\",\n",
    "    \"Delivery_person_Age\",\n",
    "    \"multiple_deliveries\",\n",
    "    \"Festival\"    \n",
    "]\n",
    "\n",
    "target_variable = \"Time_taken(min)\"\n"
   ]
  },
  {
   "cell_type": "markdown",
   "id": "98115ab2",
   "metadata": {},
   "source": [
    "# Model Training & Evaluation"
   ]
  },
  {
   "cell_type": "code",
   "execution_count": 6,
   "id": "ce9d3d22",
   "metadata": {},
   "outputs": [],
   "source": [
    "from sklearn.model_selection import train_test_split\n",
    "\n",
    "X = df[selected_features]\n",
    "y = df[target_variable]\n",
    "\n",
    "X_train, X_test, y_train, y_test = train_test_split(X, y, test_size=0.2, random_state= 42)\n"
   ]
  },
  {
   "cell_type": "markdown",
   "id": "7aaba7a1",
   "metadata": {},
   "source": [
    "# Model Selection"
   ]
  },
  {
   "cell_type": "markdown",
   "id": "1787db28",
   "metadata": {},
   "source": [
    "# Linear Regression (Baseline Model)"
   ]
  },
  {
   "cell_type": "code",
   "execution_count": 7,
   "id": "2d65df03",
   "metadata": {},
   "outputs": [
    {
     "name": "stdout",
     "output_type": "stream",
     "text": [
      "Linear Regression MAE: 5.736525887257455\n",
      "Linear Regression RMSE: 7.1604475233122855\n"
     ]
    }
   ],
   "source": [
    "from sklearn.linear_model import LinearRegression\n",
    "from sklearn.metrics import mean_absolute_error, mean_squared_error, r2_score\n",
    "\n",
    "lr = LinearRegression()\n",
    "lr.fit(X_train, y_train)\n",
    "\n",
    "y_pred_lr = lr.predict(X_test)\n",
    "\n",
    "print(\"Linear Regression MAE:\", mean_absolute_error(y_test, y_pred_lr))\n",
    "print(\"Linear Regression RMSE:\", np.sqrt(mean_squared_error(y_test, y_pred_lr)))"
   ]
  },
  {
   "cell_type": "markdown",
   "id": "30d6f92b",
   "metadata": {},
   "source": [
    "# Random Forest Regression"
   ]
  },
  {
   "cell_type": "code",
   "execution_count": 8,
   "id": "a1a408fa",
   "metadata": {},
   "outputs": [
    {
     "name": "stdout",
     "output_type": "stream",
     "text": [
      "Random Forest MAE: 5.916610628798589\n",
      "Random Forest RMSE: 7.54562345224295\n"
     ]
    }
   ],
   "source": [
    "from sklearn.ensemble import RandomForestRegressor\n",
    "\n",
    "rf = RandomForestRegressor(n_estimators=100, random_state=42)\n",
    "rf.fit(X_train, y_train)\n",
    "\n",
    "y_pred_rf = rf.predict(X_test)\n",
    "\n",
    "print(\"Random Forest MAE:\", mean_absolute_error(y_test, y_pred_rf))\n",
    "print(\"Random Forest RMSE:\", np.sqrt(mean_squared_error(y_test, y_pred_rf)))"
   ]
  },
  {
   "cell_type": "markdown",
   "id": "067682a0",
   "metadata": {},
   "source": [
    "## Gradient Boosting (XGBoost)"
   ]
  },
  {
   "cell_type": "code",
   "execution_count": 9,
   "id": "a9c72d65",
   "metadata": {},
   "outputs": [
    {
     "name": "stdout",
     "output_type": "stream",
     "text": [
      "XGBoost MAE: 5.330085277557373\n",
      "XGBoost RMSE: 6.7458921577978606\n"
     ]
    }
   ],
   "source": [
    "from xgboost import XGBRegressor\n",
    "\n",
    "xgb = XGBRegressor(n_estimators=200, learning_rate=0.1, random_state=42)\n",
    "xgb.fit(X_train, y_train)\n",
    "\n",
    "y_pred_xgb = xgb.predict(X_test)\n",
    "\n",
    "print(\"XGBoost MAE:\", mean_absolute_error(y_test, y_pred_xgb))\n",
    "print(\"XGBoost RMSE:\", np.sqrt(mean_squared_error(y_test, y_pred_xgb)))"
   ]
  },
  {
   "cell_type": "markdown",
   "id": "afd92d74",
   "metadata": {},
   "source": [
    "## Model Training & Evaluation"
   ]
  },
  {
   "cell_type": "code",
   "execution_count": 10,
   "id": "79b0b427",
   "metadata": {},
   "outputs": [],
   "source": [
    "from xgboost import XGBRegressor\n",
    "from sklearn.model_selection import GridSearchCV\n",
    "\n",
    "# Initialize the XGBoost regressor\n",
    "xgb = XGBRegressor(objective='reg:squarederror', random_state=42)\n",
    "\n",
    "# Example param grid\n",
    "param_grid = {\n",
    "    'n_estimators': [100, 200],\n",
    "    'max_depth': [3, 6],\n",
    "    'learning_rate': [0.01, 0.1]\n",
    "}\n",
    "\n",
    "# Set up GridSearchCV\n",
    "grid_search = GridSearchCV(\n",
    "    estimator=xgb,\n",
    "    param_grid=param_grid,\n",
    "    cv=5,\n",
    "    scoring='neg_mean_absolute_error',\n",
    "    n_jobs=-1,\n",
    "    verbose=2\n",
    ")"
   ]
  },
  {
   "cell_type": "code",
   "execution_count": 11,
   "id": "be35e206",
   "metadata": {},
   "outputs": [],
   "source": [
    "from sklearn.model_selection import KFold\n",
    "\n",
    "cv = KFold(n_splits=5, shuffle=True, random_state=42)\n"
   ]
  },
  {
   "cell_type": "code",
   "execution_count": 12,
   "id": "3a5dcd3b",
   "metadata": {},
   "outputs": [
    {
     "name": "stdout",
     "output_type": "stream",
     "text": [
      "Fitting 5 folds for each of 8 candidates, totalling 40 fits\n"
     ]
    }
   ],
   "source": [
    "# Fit the model\n",
    "grid_search.fit(X_train, y_train)\n",
    "\n",
    "# Get the best parameters\n",
    "best_params = grid_search.best_params_\n"
   ]
  },
  {
   "cell_type": "code",
   "execution_count": 13,
   "id": "e442d810",
   "metadata": {},
   "outputs": [
    {
     "name": "stdout",
     "output_type": "stream",
     "text": [
      "Tuned XGBoost MAE: 5.22\n",
      "Tuned XGBoost RMSE: 6.61\n"
     ]
    }
   ],
   "source": [
    "\n",
    "# Train the model with best params\n",
    "best_model = XGBRegressor(**best_params, objective='reg:squarederror', random_state=42)\n",
    "best_model.fit(X_train, y_train)\n",
    "\n",
    "# Make predictions\n",
    "y_pred = best_model.predict(X_test)\n",
    "\n",
    "# Calculate metrics\n",
    "mae = mean_absolute_error(y_test, y_pred)\n",
    "rmse = np.sqrt(mean_squared_error(y_test, y_pred))\n",
    "\n",
    "print(f\"Tuned XGBoost MAE: {mae:.2f}\")\n",
    "print(f\"Tuned XGBoost RMSE: {rmse:.2f}\")\n"
   ]
  },
  {
   "cell_type": "code",
   "execution_count": 14,
   "id": "8d954dc2",
   "metadata": {},
   "outputs": [
    {
     "data": {
      "image/png": "[encoded data removed]",
      "text/plain": [
       "<Figure size 1000x600 with 1 Axes>"
      ]
     },
     "metadata": {},
     "output_type": "display_data"
    }
   ],
   "source": [
    "import matplotlib.pyplot as plt\n",
    "\n",
    "# Plot feature importance\n",
    "importance = best_model.feature_importances_\n",
    "features = X.columns\n",
    "\n",
    "plt.figure(figsize=(10, 6))\n",
    "plt.barh(features, importance)\n",
    "plt.xlabel(\"Feature Importance\")\n",
    "plt.ylabel(\"Features\")\n",
    "plt.title(\"Feature Importance in Delivery Time Prediction (XGBoost)\")\n",
    "plt.show()\n"
   ]
  },
  {
   "cell_type": "code",
   "execution_count": 15,
   "id": "8a5f93fb",
   "metadata": {},
   "outputs": [
    {
     "name": "stdout",
     "output_type": "stream",
     "text": [
      "                        Feature  Importance\n",
      "0  Road_traffic_density_encoded    0.358298\n",
      "1           multiple_deliveries    0.237240\n",
      "2           Delivery_person_Age    0.173336\n",
      "3                   Distance_km    0.118476\n",
      "4                      Festival    0.112651\n"
     ]
    }
   ],
   "source": [
    "# Combine features and their importance into a DataFrame\n",
    "feature_importance_df = pd.DataFrame({\n",
    "    \"Feature\": features,\n",
    "    \"Importance\": importance\n",
    "})\n",
    "\n",
    "\n",
    "# Sort the table by importance\n",
    "feature_importance_df = feature_importance_df.sort_values(by=\"Importance\", ascending=False).reset_index(drop=True)\n",
    "\n",
    "# Print the table\n",
    "print(feature_importance_df)\n"
   ]
  },
  {
   "cell_type": "code",
   "execution_count": null,
   "id": "220ec0e7",
   "metadata": {},
   "outputs": [],
   "source": []
  }
 ],
 "metadata": {
  "kernelspec": {
   "display_name": "Python 3 (ipykernel)",
   "language": "python",
   "name": "python3"
  },
  "language_info": {
   "codemirror_mode": {
    "name": "ipython",
    "version": 3
   },
   "file_extension": ".py",
   "mimetype": "text/x-python",
   "name": "python",
   "nbconvert_exporter": "python",
   "pygments_lexer": "ipython3",
   "version": "3.9.13"
  }
 },
 "nbformat": 4,
 "nbformat_minor": 5
}
