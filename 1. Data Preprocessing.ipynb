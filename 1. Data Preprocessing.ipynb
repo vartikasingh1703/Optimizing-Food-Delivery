{
 "cells": [
  {
   "cell_type": "markdown",
   "id": "c1fcfaaf",
   "metadata": {},
   "source": [
    "# Data Preprocessing Tools"
   ]
  },
  {
   "cell_type": "markdown",
   "id": "49092428",
   "metadata": {},
   "source": [
    "### Importing the libraries"
   ]
  },
  {
   "cell_type": "code",
   "execution_count": 1,
   "id": "adfb58b1",
   "metadata": {},
   "outputs": [],
   "source": [
    "import pandas as pd\n",
    "import numpy as np\n",
    "from datetime import datetime\n",
    "from sklearn.preprocessing import LabelEncoder, StandardScaler\n",
    "from geopy.distance import geodesic"
   ]
  },
  {
   "cell_type": "markdown",
   "id": "bf48a400",
   "metadata": {},
   "source": [
    "### Importing the dataset"
   ]
  },
  {
   "cell_type": "code",
   "execution_count": 2,
   "id": "7d137abd",
   "metadata": {},
   "outputs": [],
   "source": [
    "df = pd.read_csv(\"input.csv\")  # Replace with your actual CSV file path"
   ]
  },
  {
   "cell_type": "markdown",
   "id": "50ae7a54",
   "metadata": {},
   "source": [
    "### Data Preprocessing & Cleaning"
   ]
  },
  {
   "cell_type": "code",
   "execution_count": 3,
   "id": "4f27df3e",
   "metadata": {},
   "outputs": [],
   "source": [
    "# Remove spaces from all string values in the DataFrame\n",
    "df = df.applymap(lambda x: x.strip() if isinstance(x, str) else x)"
   ]
  },
  {
   "cell_type": "code",
   "execution_count": 4,
   "id": "1912265c",
   "metadata": {},
   "outputs": [],
   "source": [
    "#Convert Date & Time Fields\n",
    "df[\"Order_Date\"] = pd.to_datetime(df[\"Order_Date\"], format='%d-%m-%Y', errors='coerce')\n",
    "df[\"Time_Orderd\"] = pd.to_datetime(df[\"Time_Orderd\"], format=\"%H:%M:%S\", errors='coerce')\n",
    "df[\"Time_Order_picked\"] = pd.to_datetime(df[\"Time_Order_picked\"], format=\"%H:%M:%S\", errors='coerce')\n"
   ]
  },
  {
   "cell_type": "code",
   "execution_count": 5,
   "id": "79e47618",
   "metadata": {},
   "outputs": [],
   "source": [
    "# Clean the Weatherconditions column\n",
    "df['Weatherconditions'] = df['Weatherconditions'].str.replace('conditions ', '').str.strip()\n",
    "\n",
    "# Drop NaN values\n",
    "df = df.dropna(subset=['Weatherconditions'])"
   ]
  },
  {
   "cell_type": "markdown",
   "id": "f86c5585",
   "metadata": {},
   "source": [
    "### Calculate Order-to-Pickup Time (Pickup Delay)"
   ]
  },
  {
   "cell_type": "code",
   "execution_count": 6,
   "id": "22955c76",
   "metadata": {},
   "outputs": [],
   "source": [
    "df[\"Pickup_Delay\"] = (df[\"Time_Order_picked\"] - df[\"Time_Orderd\"]).dt.total_seconds() / 60  # Convert to minutes\n"
   ]
  },
  {
   "cell_type": "markdown",
   "id": "f2953ab3",
   "metadata": {},
   "source": [
    "### Convert Categorical Data to Numerical"
   ]
  },
  {
   "cell_type": "code",
   "execution_count": 7,
   "id": "4d639772",
   "metadata": {
    "scrolled": true
   },
   "outputs": [
    {
     "name": "stdout",
     "output_type": "stream",
     "text": [
      "       ID Delivery_person_ID Delivery_person_Age Delivery_person_Ratings  \\\n",
      "0  0x4607     INDORES13DEL02                  37                     4.9   \n",
      "1  0xb379     BANGRES18DEL02                  34                     4.5   \n",
      "2  0x5d6d     BANGRES19DEL01                  23                     4.4   \n",
      "3  0x7a6a    COIMBRES13DEL02                  38                     4.7   \n",
      "4  0x70a2     CHENRES12DEL01                  32                     4.6   \n",
      "\n",
      "   Restaurant_latitude  Restaurant_longitude  Delivery_location_latitude  \\\n",
      "0            22.745049             75.892471                   22.765049   \n",
      "1            12.913041             77.683237                   13.043041   \n",
      "2            12.914264             77.678400                   12.924264   \n",
      "3            11.003669             76.976494                   11.053669   \n",
      "4            12.972793             80.249982                   13.012793   \n",
      "\n",
      "   Delivery_location_longitude Order_Date         Time_Orderd  ...  \\\n",
      "0                    75.912471 2022-03-19 1900-01-01 11:33:33  ...   \n",
      "1                    77.813237 2022-03-25 1900-01-01 19:45:37  ...   \n",
      "2                    77.688400 2022-03-19 1900-01-01 08:32:58  ...   \n",
      "3                    77.026494 2022-04-05 1900-01-01 18:03:58  ...   \n",
      "4                    80.289982 2022-03-26 1900-01-01 13:34:16  ...   \n",
      "\n",
      "  Road_traffic_density Vehicle_condition Type_of_order  Type_of_vehicle  \\\n",
      "0                 High                 2         Snack       motorcycle   \n",
      "1                  Jam                 2         Snack          scooter   \n",
      "2                  Low                 0        Drinks       motorcycle   \n",
      "3               Medium                 0        Buffet       motorcycle   \n",
      "4                 High                 1         Snack          scooter   \n",
      "\n",
      "  multiple_deliveries Festival           City Time_taken(min) Pickup_Delay  \\\n",
      "0                   0       No          Urban              24    11.933333   \n",
      "1                   1       No  Metropolitian              33     6.200000   \n",
      "2                   1       No          Urban              26    15.816667   \n",
      "3                   1       No  Metropolitian              21     8.900000   \n",
      "4                   1       No  Metropolitian              30    11.333333   \n",
      "\n",
      "   Distance_km  \n",
      "0     3.020737  \n",
      "1    20.143737  \n",
      "2     1.549693  \n",
      "3     7.774497  \n",
      "4     6.197898  \n",
      "\n",
      "[5 rows x 22 columns]\n"
     ]
    }
   ],
   "source": [
    "#def haversine_distance(Restaurant_latitude,Restaurant_longitude,Delivery_location_latitude,Delivery_location_longitude):\n",
    " #   return geodesic((Restaurant_latitude, Restaurant_longitude), (Delivery_location_latitude, Delivery_location_longitude)).km\n",
    "# Function to Calculate Distance\n",
    "def haversine_distance(row):\n",
    "    start = (row[\"Restaurant_latitude\"], row[\"Restaurant_longitude\"])\n",
    "    end = (row[\"Delivery_location_latitude\"], row[\"Delivery_location_longitude\"])\n",
    "    return geodesic(start, end).km\n",
    "\n",
    "# Apply Function to DataFrame\n",
    "df[\"Distance_km\"] = df.apply(haversine_distance, axis=1)\n",
    "\n",
    "# Display Results\n",
    "print(df.head())"
   ]
  },
  {
   "cell_type": "code",
   "execution_count": 8,
   "id": "9e07274b",
   "metadata": {},
   "outputs": [
    {
     "data": {
      "text/html": [
       "<div>\n",
       "<style scoped>\n",
       "    .dataframe tbody tr th:only-of-type {\n",
       "        vertical-align: middle;\n",
       "    }\n",
       "\n",
       "    .dataframe tbody tr th {\n",
       "        vertical-align: top;\n",
       "    }\n",
       "\n",
       "    .dataframe thead th {\n",
       "        text-align: right;\n",
       "    }\n",
       "</style>\n",
       "<table border=\"1\" class=\"dataframe\">\n",
       "  <thead>\n",
       "    <tr style=\"text-align: right;\">\n",
       "      <th></th>\n",
       "      <th>Road_traffic_density</th>\n",
       "      <th>Type_of_vehicle</th>\n",
       "      <th>Festival</th>\n",
       "      <th>Weatherconditions</th>\n",
       "      <th>Pickup_Delay</th>\n",
       "    </tr>\n",
       "  </thead>\n",
       "  <tbody>\n",
       "    <tr>\n",
       "      <th>0</th>\n",
       "      <td>High</td>\n",
       "      <td>motorcycle</td>\n",
       "      <td>No</td>\n",
       "      <td>Sunny</td>\n",
       "      <td>11.933333</td>\n",
       "    </tr>\n",
       "    <tr>\n",
       "      <th>1</th>\n",
       "      <td>Jam</td>\n",
       "      <td>scooter</td>\n",
       "      <td>No</td>\n",
       "      <td>Stormy</td>\n",
       "      <td>6.200000</td>\n",
       "    </tr>\n",
       "    <tr>\n",
       "      <th>2</th>\n",
       "      <td>Low</td>\n",
       "      <td>motorcycle</td>\n",
       "      <td>No</td>\n",
       "      <td>Sandstorms</td>\n",
       "      <td>15.816667</td>\n",
       "    </tr>\n",
       "    <tr>\n",
       "      <th>3</th>\n",
       "      <td>Medium</td>\n",
       "      <td>motorcycle</td>\n",
       "      <td>No</td>\n",
       "      <td>Sunny</td>\n",
       "      <td>8.900000</td>\n",
       "    </tr>\n",
       "    <tr>\n",
       "      <th>4</th>\n",
       "      <td>High</td>\n",
       "      <td>scooter</td>\n",
       "      <td>No</td>\n",
       "      <td>Cloudy</td>\n",
       "      <td>11.333333</td>\n",
       "    </tr>\n",
       "    <tr>\n",
       "      <th>...</th>\n",
       "      <td>...</td>\n",
       "      <td>...</td>\n",
       "      <td>...</td>\n",
       "      <td>...</td>\n",
       "      <td>...</td>\n",
       "    </tr>\n",
       "    <tr>\n",
       "      <th>20970</th>\n",
       "      <td>Jam</td>\n",
       "      <td>scooter</td>\n",
       "      <td>No</td>\n",
       "      <td>Sunny</td>\n",
       "      <td>3.166667</td>\n",
       "    </tr>\n",
       "    <tr>\n",
       "      <th>20971</th>\n",
       "      <td>Low</td>\n",
       "      <td>motorcycle</td>\n",
       "      <td>No</td>\n",
       "      <td>Fog</td>\n",
       "      <td>6.333333</td>\n",
       "    </tr>\n",
       "    <tr>\n",
       "      <th>20972</th>\n",
       "      <td>High</td>\n",
       "      <td>motorcycle</td>\n",
       "      <td>No</td>\n",
       "      <td>Cloudy</td>\n",
       "      <td>7.450000</td>\n",
       "    </tr>\n",
       "    <tr>\n",
       "      <th>20973</th>\n",
       "      <td>Low</td>\n",
       "      <td>motorcycle</td>\n",
       "      <td>No</td>\n",
       "      <td>Stormy</td>\n",
       "      <td>-1427.883333</td>\n",
       "    </tr>\n",
       "    <tr>\n",
       "      <th>20974</th>\n",
       "      <td>Low</td>\n",
       "      <td>motorcycle</td>\n",
       "      <td>No</td>\n",
       "      <td>Stormy</td>\n",
       "      <td>11.233333</td>\n",
       "    </tr>\n",
       "  </tbody>\n",
       "</table>\n",
       "<p>20975 rows × 5 columns</p>\n",
       "</div>"
      ],
      "text/plain": [
       "      Road_traffic_density Type_of_vehicle Festival Weatherconditions  \\\n",
       "0                     High      motorcycle       No             Sunny   \n",
       "1                      Jam         scooter       No            Stormy   \n",
       "2                      Low      motorcycle       No        Sandstorms   \n",
       "3                   Medium      motorcycle       No             Sunny   \n",
       "4                     High         scooter       No            Cloudy   \n",
       "...                    ...             ...      ...               ...   \n",
       "20970                  Jam         scooter       No             Sunny   \n",
       "20971                  Low      motorcycle       No               Fog   \n",
       "20972                 High      motorcycle       No            Cloudy   \n",
       "20973                  Low      motorcycle       No            Stormy   \n",
       "20974                  Low      motorcycle       No            Stormy   \n",
       "\n",
       "       Pickup_Delay  \n",
       "0         11.933333  \n",
       "1          6.200000  \n",
       "2         15.816667  \n",
       "3          8.900000  \n",
       "4         11.333333  \n",
       "...             ...  \n",
       "20970      3.166667  \n",
       "20971      6.333333  \n",
       "20972      7.450000  \n",
       "20973  -1427.883333  \n",
       "20974     11.233333  \n",
       "\n",
       "[20975 rows x 5 columns]"
      ]
     },
     "execution_count": 8,
     "metadata": {},
     "output_type": "execute_result"
    }
   ],
   "source": [
    "df[['Road_traffic_density', 'Type_of_vehicle','Festival', 'Weatherconditions','Pickup_Delay']]"
   ]
  },
  {
   "cell_type": "code",
   "execution_count": 9,
   "id": "d03eeeb9",
   "metadata": {},
   "outputs": [],
   "source": [
    "traffic_mapping = {'Low': 0, 'Medium': 1, 'High': 2, 'Jam': 3}\n",
    "df['Road_traffic_density_encoded'] = df['Road_traffic_density'].map(traffic_mapping)\n"
   ]
  },
  {
   "cell_type": "markdown",
   "id": "3a998530",
   "metadata": {},
   "source": [
    "### Convert Categorical Data to Numerical"
   ]
  },
  {
   "cell_type": "code",
   "execution_count": 10,
   "id": "6183701a",
   "metadata": {},
   "outputs": [],
   "source": [
    "label_encoders = {}\n",
    "categorical_columns = [\"Festival\", \"City\"]\n",
    "    \n",
    "for col in categorical_columns:\n",
    "    le = LabelEncoder()\n",
    "    df[col] = le.fit_transform(df[col].astype(str))\n",
    "    label_encoders[col] = le  # Store encoders for future use\n"
   ]
  },
  {
   "cell_type": "code",
   "execution_count": 11,
   "id": "67f6f383",
   "metadata": {},
   "outputs": [
    {
     "data": {
      "text/html": [
       "<div>\n",
       "<style scoped>\n",
       "    .dataframe tbody tr th:only-of-type {\n",
       "        vertical-align: middle;\n",
       "    }\n",
       "\n",
       "    .dataframe tbody tr th {\n",
       "        vertical-align: top;\n",
       "    }\n",
       "\n",
       "    .dataframe thead th {\n",
       "        text-align: right;\n",
       "    }\n",
       "</style>\n",
       "<table border=\"1\" class=\"dataframe\">\n",
       "  <thead>\n",
       "    <tr style=\"text-align: right;\">\n",
       "      <th></th>\n",
       "      <th>Road_traffic_density</th>\n",
       "      <th>Festival</th>\n",
       "      <th>Weatherconditions</th>\n",
       "      <th>Pickup_Delay</th>\n",
       "    </tr>\n",
       "  </thead>\n",
       "  <tbody>\n",
       "    <tr>\n",
       "      <th>0</th>\n",
       "      <td>High</td>\n",
       "      <td>1</td>\n",
       "      <td>Sunny</td>\n",
       "      <td>11.933333</td>\n",
       "    </tr>\n",
       "    <tr>\n",
       "      <th>1</th>\n",
       "      <td>Jam</td>\n",
       "      <td>1</td>\n",
       "      <td>Stormy</td>\n",
       "      <td>6.200000</td>\n",
       "    </tr>\n",
       "    <tr>\n",
       "      <th>2</th>\n",
       "      <td>Low</td>\n",
       "      <td>1</td>\n",
       "      <td>Sandstorms</td>\n",
       "      <td>15.816667</td>\n",
       "    </tr>\n",
       "    <tr>\n",
       "      <th>3</th>\n",
       "      <td>Medium</td>\n",
       "      <td>1</td>\n",
       "      <td>Sunny</td>\n",
       "      <td>8.900000</td>\n",
       "    </tr>\n",
       "    <tr>\n",
       "      <th>4</th>\n",
       "      <td>High</td>\n",
       "      <td>1</td>\n",
       "      <td>Cloudy</td>\n",
       "      <td>11.333333</td>\n",
       "    </tr>\n",
       "    <tr>\n",
       "      <th>...</th>\n",
       "      <td>...</td>\n",
       "      <td>...</td>\n",
       "      <td>...</td>\n",
       "      <td>...</td>\n",
       "    </tr>\n",
       "    <tr>\n",
       "      <th>20970</th>\n",
       "      <td>Jam</td>\n",
       "      <td>1</td>\n",
       "      <td>Sunny</td>\n",
       "      <td>3.166667</td>\n",
       "    </tr>\n",
       "    <tr>\n",
       "      <th>20971</th>\n",
       "      <td>Low</td>\n",
       "      <td>1</td>\n",
       "      <td>Fog</td>\n",
       "      <td>6.333333</td>\n",
       "    </tr>\n",
       "    <tr>\n",
       "      <th>20972</th>\n",
       "      <td>High</td>\n",
       "      <td>1</td>\n",
       "      <td>Cloudy</td>\n",
       "      <td>7.450000</td>\n",
       "    </tr>\n",
       "    <tr>\n",
       "      <th>20973</th>\n",
       "      <td>Low</td>\n",
       "      <td>1</td>\n",
       "      <td>Stormy</td>\n",
       "      <td>-1427.883333</td>\n",
       "    </tr>\n",
       "    <tr>\n",
       "      <th>20974</th>\n",
       "      <td>Low</td>\n",
       "      <td>1</td>\n",
       "      <td>Stormy</td>\n",
       "      <td>11.233333</td>\n",
       "    </tr>\n",
       "  </tbody>\n",
       "</table>\n",
       "<p>20975 rows × 4 columns</p>\n",
       "</div>"
      ],
      "text/plain": [
       "      Road_traffic_density  Festival Weatherconditions  Pickup_Delay\n",
       "0                     High         1             Sunny     11.933333\n",
       "1                      Jam         1            Stormy      6.200000\n",
       "2                      Low         1        Sandstorms     15.816667\n",
       "3                   Medium         1             Sunny      8.900000\n",
       "4                     High         1            Cloudy     11.333333\n",
       "...                    ...       ...               ...           ...\n",
       "20970                  Jam         1             Sunny      3.166667\n",
       "20971                  Low         1               Fog      6.333333\n",
       "20972                 High         1            Cloudy      7.450000\n",
       "20973                  Low         1            Stormy  -1427.883333\n",
       "20974                  Low         1            Stormy     11.233333\n",
       "\n",
       "[20975 rows x 4 columns]"
      ]
     },
     "execution_count": 11,
     "metadata": {},
     "output_type": "execute_result"
    }
   ],
   "source": [
    "df[['Road_traffic_density', 'Festival', 'Weatherconditions','Pickup_Delay']]"
   ]
  },
  {
   "cell_type": "markdown",
   "id": "ac38713a",
   "metadata": {},
   "source": [
    "### Handle Missing Data & Outliers"
   ]
  },
  {
   "cell_type": "code",
   "execution_count": 12,
   "id": "637fe708",
   "metadata": {},
   "outputs": [],
   "source": [
    "df.fillna(df.median(numeric_only=True), inplace=True)  # Fill missing numerical values with median\n",
    "df.fillna(\"Unknown\", inplace=True)  # Fill missing categorical values with \"Unknown\"\n"
   ]
  },
  {
   "cell_type": "code",
   "execution_count": 13,
   "id": "bf826d57",
   "metadata": {},
   "outputs": [
    {
     "data": {
      "text/html": [
       "<div>\n",
       "<style scoped>\n",
       "    .dataframe tbody tr th:only-of-type {\n",
       "        vertical-align: middle;\n",
       "    }\n",
       "\n",
       "    .dataframe tbody tr th {\n",
       "        vertical-align: top;\n",
       "    }\n",
       "\n",
       "    .dataframe thead th {\n",
       "        text-align: right;\n",
       "    }\n",
       "</style>\n",
       "<table border=\"1\" class=\"dataframe\">\n",
       "  <thead>\n",
       "    <tr style=\"text-align: right;\">\n",
       "      <th></th>\n",
       "      <th>Pickup_Delay</th>\n",
       "    </tr>\n",
       "  </thead>\n",
       "  <tbody>\n",
       "    <tr>\n",
       "      <th>0</th>\n",
       "      <td>11.933333</td>\n",
       "    </tr>\n",
       "    <tr>\n",
       "      <th>1</th>\n",
       "      <td>6.200000</td>\n",
       "    </tr>\n",
       "    <tr>\n",
       "      <th>2</th>\n",
       "      <td>15.816667</td>\n",
       "    </tr>\n",
       "    <tr>\n",
       "      <th>3</th>\n",
       "      <td>8.900000</td>\n",
       "    </tr>\n",
       "    <tr>\n",
       "      <th>4</th>\n",
       "      <td>11.333333</td>\n",
       "    </tr>\n",
       "    <tr>\n",
       "      <th>...</th>\n",
       "      <td>...</td>\n",
       "    </tr>\n",
       "    <tr>\n",
       "      <th>20970</th>\n",
       "      <td>3.166667</td>\n",
       "    </tr>\n",
       "    <tr>\n",
       "      <th>20971</th>\n",
       "      <td>6.333333</td>\n",
       "    </tr>\n",
       "    <tr>\n",
       "      <th>20972</th>\n",
       "      <td>7.450000</td>\n",
       "    </tr>\n",
       "    <tr>\n",
       "      <th>20973</th>\n",
       "      <td>-1427.883333</td>\n",
       "    </tr>\n",
       "    <tr>\n",
       "      <th>20974</th>\n",
       "      <td>11.233333</td>\n",
       "    </tr>\n",
       "  </tbody>\n",
       "</table>\n",
       "<p>20975 rows × 1 columns</p>\n",
       "</div>"
      ],
      "text/plain": [
       "       Pickup_Delay\n",
       "0         11.933333\n",
       "1          6.200000\n",
       "2         15.816667\n",
       "3          8.900000\n",
       "4         11.333333\n",
       "...             ...\n",
       "20970      3.166667\n",
       "20971      6.333333\n",
       "20972      7.450000\n",
       "20973  -1427.883333\n",
       "20974     11.233333\n",
       "\n",
       "[20975 rows x 1 columns]"
      ]
     },
     "execution_count": 13,
     "metadata": {},
     "output_type": "execute_result"
    }
   ],
   "source": [
    "df[['Pickup_Delay']]"
   ]
  },
  {
   "cell_type": "code",
   "execution_count": 14,
   "id": "02576374",
   "metadata": {},
   "outputs": [],
   "source": [
    "#from scipy import stats\n",
    "#df = df[(np.abs(stats.zscore(df.select_dtypes(include=[np.number]))) < 3).all(axis=1)]  # Remove outliers beyond 3 std deviations\n",
    "from scipy import stats\n",
    "# List of columns you want to check for outliers\n",
    "selected_columns = ['Time_taken(min)', 'Distance_km']\n",
    "\n",
    "# Remove rows where any selected column has a Z-score > 3 or < -3\n",
    "df = df[(np.abs(stats.zscore(df[selected_columns])) < 3).all(axis=1)]\n"
   ]
  },
  {
   "cell_type": "markdown",
   "id": "4b184820",
   "metadata": {},
   "source": [
    "### Normalize & Scale Features"
   ]
  },
  {
   "cell_type": "code",
   "execution_count": 15,
   "id": "bdcfc735",
   "metadata": {},
   "outputs": [],
   "source": [
    "scaler = StandardScaler()\n",
    "numeric_features = [ \"Distance_km\"]\n",
    "\n",
    "df[numeric_features] = scaler.fit_transform(df[numeric_features])\n"
   ]
  },
  {
   "cell_type": "code",
   "execution_count": 16,
   "id": "d0589aba",
   "metadata": {},
   "outputs": [
    {
     "name": "stdout",
     "output_type": "stream",
     "text": [
      "       ID Delivery_person_ID Delivery_person_Age Delivery_person_Ratings  \\\n",
      "0  0x4607     INDORES13DEL02                  37                     4.9   \n",
      "1  0xb379     BANGRES18DEL02                  34                     4.5   \n",
      "2  0x5d6d     BANGRES19DEL01                  23                     4.4   \n",
      "3  0x7a6a    COIMBRES13DEL02                  38                     4.7   \n",
      "4  0x70a2     CHENRES12DEL01                  32                     4.6   \n",
      "\n",
      "   Restaurant_latitude  Restaurant_longitude  Delivery_location_latitude  \\\n",
      "0            22.745049             75.892471                   22.765049   \n",
      "1            12.913041             77.683237                   13.043041   \n",
      "2            12.914264             77.678400                   12.924264   \n",
      "3            11.003669             76.976494                   11.053669   \n",
      "4            12.972793             80.249982                   13.012793   \n",
      "\n",
      "   Delivery_location_longitude Order_Date          Time_Orderd  ...  \\\n",
      "0                    75.912471 2022-03-19  1900-01-01 11:33:33  ...   \n",
      "1                    77.813237 2022-03-25  1900-01-01 19:45:37  ...   \n",
      "2                    77.688400 2022-03-19  1900-01-01 08:32:58  ...   \n",
      "3                    77.026494 2022-04-05  1900-01-01 18:03:58  ...   \n",
      "4                    80.289982 2022-03-26  1900-01-01 13:34:16  ...   \n",
      "\n",
      "  Vehicle_condition Type_of_order Type_of_vehicle  multiple_deliveries  \\\n",
      "0                 2         Snack      motorcycle                    0   \n",
      "1                 2         Snack         scooter                    1   \n",
      "2                 0        Drinks      motorcycle                    1   \n",
      "3                 0        Buffet      motorcycle                    1   \n",
      "4                 1         Snack         scooter                    1   \n",
      "\n",
      "  Festival City Time_taken(min)  Pickup_Delay  Distance_km  \\\n",
      "0        1    3              24     11.933333    -1.192417   \n",
      "1        1    0              33      6.200000     1.868674   \n",
      "2        1    3              26     15.816667    -1.455396   \n",
      "3        1    0              21      8.900000    -0.342584   \n",
      "4        1    0              30     11.333333    -0.624434   \n",
      "\n",
      "   Road_traffic_density_encoded  \n",
      "0                           2.0  \n",
      "1                           3.0  \n",
      "2                           0.0  \n",
      "3                           1.0  \n",
      "4                           2.0  \n",
      "\n",
      "[5 rows x 23 columns]\n"
     ]
    }
   ],
   "source": [
    "print(df.head())"
   ]
  },
  {
   "cell_type": "code",
   "execution_count": 17,
   "id": "56aba6a4",
   "metadata": {},
   "outputs": [],
   "source": [
    "df.to_csv(\"data.csv\", index=False)"
   ]
  },
  {
   "cell_type": "code",
   "execution_count": null,
   "id": "2dd41cb7",
   "metadata": {},
   "outputs": [],
   "source": []
  },
  {
   "cell_type": "code",
   "execution_count": null,
   "id": "82e8ac0d",
   "metadata": {},
   "outputs": [],
   "source": []
  },
  {
   "cell_type": "code",
   "execution_count": null,
   "id": "0fb46b1a",
   "metadata": {},
   "outputs": [],
   "source": []
  }
 ],
 "metadata": {
  "kernelspec": {
   "display_name": "Python 3 (ipykernel)",
   "language": "python",
   "name": "python3"
  },
  "language_info": {
   "codemirror_mode": {
    "name": "ipython",
    "version": 3
   },
   "file_extension": ".py",
   "mimetype": "text/x-python",
   "name": "python",
   "nbconvert_exporter": "python",
   "pygments_lexer": "ipython3",
   "version": "3.9.13"
  }
 },
 "nbformat": 4,
 "nbformat_minor": 5
}
